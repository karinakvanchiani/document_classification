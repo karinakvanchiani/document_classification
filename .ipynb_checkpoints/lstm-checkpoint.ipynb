{
 "cells": [
  {
   "cell_type": "code",
   "execution_count": 11,
   "metadata": {},
   "outputs": [],
   "source": [
    "from collections import Counter\n",
    "\n",
    "import torch\n",
    "import torch.nn as nn\n",
    "import torch.nn.functional as F\n",
    "import numpy as np"
   ]
  },
  {
   "cell_type": "code",
   "execution_count": 15,
   "metadata": {},
   "outputs": [
    {
     "name": "stdout",
     "output_type": "stream",
     "text": [
      "<_io.TextIOWrapper name='C:/Users/kvanc/session/document_classification/datasets/text.txt' mode='r' encoding='cp1251'>\n"
     ]
    },
    {
     "ename": "UnicodeDecodeError",
     "evalue": "'charmap' codec can't decode byte 0x98 in position 2715: character maps to <undefined>",
     "output_type": "error",
     "traceback": [
      "\u001b[1;31m---------------------------------------------------------------------------\u001b[0m",
      "\u001b[1;31mUnicodeDecodeError\u001b[0m                        Traceback (most recent call last)",
      "\u001b[1;32m<ipython-input-15-9bb202264934>\u001b[0m in \u001b[0;36m<module>\u001b[1;34m\u001b[0m\n\u001b[0;32m      3\u001b[0m \u001b[1;32mwith\u001b[0m \u001b[0mopen\u001b[0m\u001b[1;33m(\u001b[0m\u001b[0mTRAIN_TEXT_FILE_PATH\u001b[0m\u001b[1;33m)\u001b[0m \u001b[1;32mas\u001b[0m \u001b[0mtext_file\u001b[0m\u001b[1;33m:\u001b[0m\u001b[1;33m\u001b[0m\u001b[1;33m\u001b[0m\u001b[0m\n\u001b[0;32m      4\u001b[0m     \u001b[0mprint\u001b[0m\u001b[1;33m(\u001b[0m\u001b[0mtext_file\u001b[0m\u001b[1;33m)\u001b[0m\u001b[1;33m\u001b[0m\u001b[1;33m\u001b[0m\u001b[0m\n\u001b[1;32m----> 5\u001b[1;33m     \u001b[0mtext_sample\u001b[0m \u001b[1;33m=\u001b[0m \u001b[0mtext_file\u001b[0m\u001b[1;33m.\u001b[0m\u001b[0mreadlines\u001b[0m\u001b[1;33m(\u001b[0m\u001b[1;33m)\u001b[0m\u001b[1;33m\u001b[0m\u001b[1;33m\u001b[0m\u001b[0m\n\u001b[0m\u001b[0;32m      6\u001b[0m \u001b[1;33m\u001b[0m\u001b[0m\n\u001b[0;32m      7\u001b[0m \u001b[1;33m\u001b[0m\u001b[0m\n",
      "\u001b[1;32m~\\anaconda3\\lib\\encodings\\cp1251.py\u001b[0m in \u001b[0;36mdecode\u001b[1;34m(self, input, final)\u001b[0m\n\u001b[0;32m     21\u001b[0m \u001b[1;32mclass\u001b[0m \u001b[0mIncrementalDecoder\u001b[0m\u001b[1;33m(\u001b[0m\u001b[0mcodecs\u001b[0m\u001b[1;33m.\u001b[0m\u001b[0mIncrementalDecoder\u001b[0m\u001b[1;33m)\u001b[0m\u001b[1;33m:\u001b[0m\u001b[1;33m\u001b[0m\u001b[1;33m\u001b[0m\u001b[0m\n\u001b[0;32m     22\u001b[0m     \u001b[1;32mdef\u001b[0m \u001b[0mdecode\u001b[0m\u001b[1;33m(\u001b[0m\u001b[0mself\u001b[0m\u001b[1;33m,\u001b[0m \u001b[0minput\u001b[0m\u001b[1;33m,\u001b[0m \u001b[0mfinal\u001b[0m\u001b[1;33m=\u001b[0m\u001b[1;32mFalse\u001b[0m\u001b[1;33m)\u001b[0m\u001b[1;33m:\u001b[0m\u001b[1;33m\u001b[0m\u001b[1;33m\u001b[0m\u001b[0m\n\u001b[1;32m---> 23\u001b[1;33m         \u001b[1;32mreturn\u001b[0m \u001b[0mcodecs\u001b[0m\u001b[1;33m.\u001b[0m\u001b[0mcharmap_decode\u001b[0m\u001b[1;33m(\u001b[0m\u001b[0minput\u001b[0m\u001b[1;33m,\u001b[0m\u001b[0mself\u001b[0m\u001b[1;33m.\u001b[0m\u001b[0merrors\u001b[0m\u001b[1;33m,\u001b[0m\u001b[0mdecoding_table\u001b[0m\u001b[1;33m)\u001b[0m\u001b[1;33m[\u001b[0m\u001b[1;36m0\u001b[0m\u001b[1;33m]\u001b[0m\u001b[1;33m\u001b[0m\u001b[1;33m\u001b[0m\u001b[0m\n\u001b[0m\u001b[0;32m     24\u001b[0m \u001b[1;33m\u001b[0m\u001b[0m\n\u001b[0;32m     25\u001b[0m \u001b[1;32mclass\u001b[0m \u001b[0mStreamWriter\u001b[0m\u001b[1;33m(\u001b[0m\u001b[0mCodec\u001b[0m\u001b[1;33m,\u001b[0m\u001b[0mcodecs\u001b[0m\u001b[1;33m.\u001b[0m\u001b[0mStreamWriter\u001b[0m\u001b[1;33m)\u001b[0m\u001b[1;33m:\u001b[0m\u001b[1;33m\u001b[0m\u001b[1;33m\u001b[0m\u001b[0m\n",
      "\u001b[1;31mUnicodeDecodeError\u001b[0m: 'charmap' codec can't decode byte 0x98 in position 2715: character maps to <undefined>"
     ]
    }
   ],
   "source": [
    "TRAIN_TEXT_FILE_PATH = 'C:/Users/kvanc/session/document_classification/datasets/text.txt'\n",
    "\n",
    "with open(TRAIN_TEXT_FILE_PATH) as text_file:\n",
    "    print(text_file)\n",
    "    text_sample = text_file.readlines()\n",
    "    \n",
    "\n",
    "text_sample = ' '.join(text_sample)\n",
    "\n",
    "def text_to_seq(text_sample):\n",
    "    char_counts = Counter(text_sample)\n",
    "    char_counts = sorted(char_counts.items(), key = lambda x: x[1], reverse=True)\n",
    "\n",
    "    sorted_chars = [char for char, _ in char_counts]\n",
    "\n",
    "    char_to_idx = {char: index for index, char in enumerate(sorted_chars)}\n",
    "    idx_to_char = {v: k for k, v in char_to_idx.items()}\n",
    "    sequence = np.array([char_to_idx[char] for char in text_sample])\n",
    "    \n",
    "    return sequence, char_to_idx, idx_to_char\n",
    "\n",
    "sequence, char_to_idx, idx_to_char = text_to_seq(text_sample)"
   ]
  },
  {
   "cell_type": "code",
   "execution_count": 13,
   "metadata": {},
   "outputs": [
    {
     "data": {
      "text/plain": [
       "\"\\n This is great news for our citizens and for peace-loving people everywhere. We believe that when nations respect the rights of their neighbors, and defend the interests of their people, they can better work together to secure the blessings of safety, prosperity, and peace.\\n \\n Each of us here today is the emissary of a distinct culture, a rich history, and a people bound together by ties of memory, tradition, and the values that make our homelands like nowhere else on Earth.\\n \\n That is why America will always choose independence and cooperation over global governance, control, and domination.\\n \\n I honor the right of every nation in this room to pursue its own customs, beliefs, and traditions. The United States will not tell you how to live or work or worship. We only ask that you honor our sovereignty in return.\\n \\n From Warsaw to Brussels, to Tokyo to Singapore, it has been my highest honor to represent the United States abroad. I have forged close relationships and friendships and strong partnerships with the leaders of many nations in this room, and our approach has already yielded incredible change.\\n \\n With support from many countries here today, we have engaged with North Korea to replace the specter of conflict with a bold and new push for peace.\\n \\n In June, I traveled to Singapore to meet face to face with North KoreaвЂ™s leader, Chairman Kim Jong Un. We had highly productive conversations and meetings, and we agreed that it was in both countriesвЂ™ interest to pursue the denuclearization of the Korean Peninsula. Since that meeting, we have already seen a number of encouraging measures that few could have imagined only a short time ago.\\n \\n The missiles and rockets are no longer flying in every direction. Nuclear testing has stopped. Some military facilities are already being dismantled. Our hostages have been released. And as promised, the remains of our fallen heroes are being returned home to lay at rest in American soil.\\n \\n I would like to thank Chairman Kim for his courage and for the steps he has taken, though much work remains to be done. The sanctions will stay in place until denuclearization occurs.\\n \\n I also want to thank the many member states who helped us reach this moment -- a moment that is actually far greater than people would understand; far greater -- but for also their support and the critical support that we will all need going forward.\\n \\n A special thanks to President Moon of South Korea, Prime Minister Abe of Japan, and President Xi of China.\\n \\n In the Middle East, our new approach is also yielding great strides and very historic change.\\n \\n Following my trip to Saudi Arabia last year, the Gulf countries opened a new center to target terrorist financing. They are enforcing new sanctions, working with us to identify and track terrorist networks, and taking more responsibility for fighting terrorism and extremism in their own region.\\n \\n Donald Trump\\n WHITE HOUSE\\n \\n Trump won't meet Rouhani at U.N., calls him 'absolutely lovely man'\\n By LOUIS NELSON\\n The UAE, Saudi Arabia, and Qatar have pledged billions of dollars to aid the people of Syria and Yemen. And they are pursuing multiple avenues to ending YemenвЂ™s horrible, horrific civil war.\\n \\n Ultimately, it is up to the nations of the region to decide what kind of future they want for themselves and their children.\\n \\n For that reason, the United States is working with the Gulf Cooperation Council, Jordan, and Egypt to establish a regional strategic alliance so that Middle Eastern nations can advance prosperity, stability, and security across their home region.\\n \\n Thanks to the United States military and our partnership with many of your nations, I am pleased to report that the bloodthirsty killers known as ISIS have been driven out from the territory they once held in Iraq and Syria. We will continue to work with friends and allies to deny radical Islamic terrorists any funding, territory or support, or any means of infiltrating our borders.\\n \\n The ongoing tragedy in Syria is heartbreaking. Our shared goals must be the de-escalation of military conflict, along with a political solution that honors the will of the Syrian people. In this vein, we urge the United Nations-led peace process be reinvigorated. But, rest assured, the United States will respond if chemical weapons are deployed by the Assad regime.\\n \\n I commend the people of Jordan and other neighboring countries for hosting refugees from this very brutal civil war.\\n \\n As we see in Jordan, the most compassionate policy is to place refugees as close to their homes as possible to ease their eventual return to be part of the rebuilding process. This approach also stretches finite resources to help far more people, increasing the impact of every dollar spent.\\n \\n Every solution to the humanitarian crisis in Syria must also include a strategy to address the brutal regime that has fueled and financed it: the corrupt dictatorship in Iran.\\n \\n IranвЂ™s leaders sow chaos, death, and destruction. They do not respect their neighbors or borders, or the sovereign rights of nations. Instead, IranвЂ™s leaders plunder the nationвЂ™s resources to enrich themselves and to spread mayhem across the Middle East and far beyond.\\n \\n The Iranian people are rightly outraged that their leaders have embezzled billions of dollars from IranвЂ™s treasury, seized valuable portions of the economy, and looted the peopleвЂ™s religious endowments, all to line their own pockets and send their proxies to wage war. Not good.\\n \\n IranвЂ™s neighbors have paid a heavy toll for the region's [regimeвЂ™s] agenda of aggression and expansion. That is why so many countries in the Middle East strongly supported my decision to withdraw the United States from the horrible 2015 Iran Nuclear Deal and re-impose nuclear sanctions.\\n \\n The Iran deal was a windfall for IranвЂ™s leaders. In the years since the deal was reached, IranвЂ™s military budget grew nearly 40 percent. The dictatorship used the funds to build nuclear-capable missiles, increase internal repression, finance terrorism, and fund havoc and slaughter in Syria and Yemen.\\n \\n The United States has launched a campaign of economic pressure to deny the regime the funds it needs to advance its bloody agenda. Last month, we began re-imposing hard-hitting nuclear sanctions that had been lifted under the Iran deal. Additional sanctions will resume November 5th, and more will follow. And we're working with countries that import Iranian crude oil to cut their purchases substantially.\\n \\n We cannot allow the worldвЂ™s leading sponsor of terrorism to possess the planetвЂ™s most dangerous weapons. We cannot allow a regime that chants вЂњDeath to America,вЂќ and that threatens Israel with annihilation, to possess the means to deliver a nuclear warhead to any city on Earth. Just can't do it.\\n \\n We ask all nations to isolate IranвЂ™s regime as long as its aggression continues. And we ask all nations to support IranвЂ™s people as they struggle to reclaim their religious and righteous destiny.\\n \\n This year, we also took another significant step forward in the Middle East. In recognition of every sovereign state to determine its own capital, I moved the U.S. Embassy in Israel to Jerusalem.\\n \\n The United States is committed to a future of peace and stability in the region, including peace between the Israelis and the Palestinians. That aim is advanced, not harmed, by acknowledging the obvious facts.\\n \\n AmericaвЂ™s policy of principled realism means we will not be held hostage to old dogmas, discredited ideologies, and so-called experts who have been proven wrong over the years, time and time again. This is true not only in matters of peace, but in matters of prosperity.\\n \\n We believe that trade must be fair and reciprocal. The United States will not be taken advantage of any longer.\\n \\n For decades, the United States opened its economy -- the largest, by far, on Earth -- with few conditions. We allowed foreign goods from all over the world to flow freely across our borders.\\n \\n Yet, other countries did not grant us fair and reciprocal access to their markets in return. Even worse, some countries abused their openness to dump their products, subsidize their goods, target our industries, and manipulate their currencies to gain unfair advantage over our country. As a result, our trade deficit ballooned to nearly $800 billion a year.\\n \\n For this reason, we are systematically renegotiating broken and bad trade deals.\\n \\n Last month, we announced a groundbreaking U.S.-Mexico trade agreement. And just yesterday, I stood with President Moon to announce the successful completion of the brand new U.S.-Korea trade deal. And this is just the beginning.\\n \\n President Donald Trump\\n WASHINGTON AND THE WORLD\\n \\n China Fills a Trump-Sized Vacuum at the U.N.\\n By RICHARD GOWAN\\n Many nations in this hall will agree that the world trading system is in dire need of change. For example, countries were admitted to the World Trade Organization that violate every single principle on which the organization is based. While the United States and many other nations play by the rules, these countries use government-run industrial planning and state-owned enterprises to rig the system in their favor. They engage in relentless product dumping, forced technology transfer, and the theft of intellectual property.\\n \\n The United States lost over 3 million manufacturing jobs, nearly a quarter of all steel jobs, and 60,000 factories after China joined the WTO. And we have racked up $13 trillion in trade deficits over the last two decades.\\n \\n But those days are over. We will no longer tolerate such abuse. We will not allow our workers to be victimized, our companies to be cheated, and our wealth to be plundered and transferred. America will never apologize for protecting its citizens.\\n \\n The United States has just announced tariffs on another $200 billion in Chinese-made goods for a total, so far, of $250 billion. I have great respect and affection for my friend, President Xi, but I have made clear our trade imbalance is just not acceptable. ChinaвЂ™s market distortions and the way they deal cannot be tolerated.\\n \\n As my administration has demonstrated, America will always act in our national interest.\\n \\n I spoke before this body last year and warned that the U.N. Human Rights Council had become a grave embarrassment to this institution, shielding egregious human rights abusers while bashing America and its many friends.\\n \\n Our Ambassador to the United Nations, Nikki Haley, laid out a clear agenda for reform, but despite reported and repeated warnings, no action at all was taken. So the United States took the only responsible course: We withdrew from the Human Rights Council, and we will not return until real reform is enacted.\\n \\n For similar reasons, the United States will provide no support in recognition to the International Criminal Court. As far as America is concerned, the ICC has no jurisdiction, no legitimacy, and no authority. The ICC claims near-universal jurisdiction over the citizens of every country, violating all principles of justice, fairness, and due process. We will never surrender AmericaвЂ™s sovereignty to an unelected, unaccountable, global bureaucracy.\\n \\n America is governed by Americans. We reject the ideology of globalism, and we embrace the doctrine of patriotism.\\n \\n Around the world, responsible nations must defend against threats to sovereignty not just from global governance, but also from other, new forms of coercion and domination.\\n \\n In America, we believe strongly in energy security for ourselves and for our allies. We have become the largest energy producer anywhere on the face of the Earth. The United States stands ready to export our abundant, affordable supply of oil, clean coal, and natural gas.\\n \\n OPEC and OPEC nations, are, as usual, ripping off the rest of the world, and I donвЂ™t like it. Nobody should like it. We defend many of these nations for nothing, and then they take advantage of us by giving us high oil prices. Not good.\\n \\n We want them to stop raising prices, we want them to start lowering prices, and they must contribute substantially to military protection from now on. We are not going to put up with it -- these horrible prices -- much longer.\\n \\n Reliance on a single foreign supplier can leave a nation vulnerable to extortion and intimidation. That is why we congratulate European states, such as Poland, for leading the construction of a Baltic pipeline so that nations are not dependent on Russia to meet their energy needs. Germany will become totally dependent on Russian energy if it does not immediately change course.\\n \\n Here in the Western Hemisphere, we are committed to maintaining our independence from the encroachment of expansionist foreign powers.\\n \\n It has been the formal policy of our country since President Monroe that we reject the interference of foreign nations in this hemisphere and in our own affairs. The United States has recently strengthened our laws to better screen foreign investments in our country for national security threats, and we welcome cooperation with countries in this region and around the world that wish to do the same. You need to do it for your own protection.\\n \\n The United States is also working with partners in Latin America to confront threats to sovereignty from uncontrolled migration. Tolerance for human struggling and human smuggling and trafficking is not humane. It's a horrible thing that's going on, at levels that nobody has ever seen before. It's very, very cruel.\\n \\n Illegal immigration funds criminal networks, ruthless gangs, and the flow of deadly drugs. Illegal immigration exploits vulnerable populations, hurts hardworking citizens, and has produced a vicious cycle of crime, violence, and poverty. Only by upholding national borders, destroying criminal gangs, can we break this cycle and establish a real foundation for prosperity.\\n \\n We recognize the right of every nation in this room to set its own immigration policy in accordance with its national interests, just as we ask other countries to respect our own right to do the same -- which we are doing. That is one reason the United States will not participate in the new Global Compact on Migration. Migration should not be governed by an international body unaccountable to our own citizens.\\n \\n Ultimately, the only long-term solution to the migration crisis is to help people build more hopeful futures in their home countries. Make their countries great again.\\n \\n Currently, we are witnessing a human tragedy, as an example, in Venezuela. More than 2 million people have fled the anguish inflicted by the socialist Maduro regime and its Cuban sponsors.\\n \\n Not long ago, Venezuela was one of the richest countries on Earth. Today, socialism has bankrupted the oil-rich nation and driven its people into abject poverty.\\n \\n Virtually everywhere socialism or communism has been tried, it has produced suffering, corruption, and decay. SocialismвЂ™s thirst for power leads to expansion, incursion, and oppression. All nations of the world should resist socialism and the misery that it brings to everyone.\\n \\n In that spirit, we ask the nations gathered here to join us in calling for the restoration of democracy in Venezuela. Today, we are announcing additional sanctions against the repressive regime, targeting MaduroвЂ™s inner circle and close advisors.\\n \\n We are grateful for all the work the United Nations does around the world to help people build better lives for themselves and their families.\\n \\n The United States is the worldвЂ™s largest giver in the world, by far, of foreign aid. But few give anything to us. That is why we are taking a hard look at U.S. foreign assistance. That will be headed up by Secretary of State Mike Pompeo. We will examine what is working, what is not working, and whether the countries who receive our dollars and our protection also have our interests at heart.\\n \\n Moving forward, we are only going to give foreign aid to those who respect us and, frankly, are our friends. And we expect other countries to pay their fair share for the cost of their defense.\\n \\n The United States is committed to making the United Nations more effective and accountable. I have said many times that the United Nations has unlimited potential. As part of our reform effort, I have told our negotiators that the United States will not pay more than 25 percent of the U.N. peacekeeping budget. This will encourage other countries to step up, get involved, and also share in this very large burden.\\n \\n And we are working to shift more of our funding from assessed contributions to voluntary so that we can target American resources to the programs with the best record of success.\\n \\n Only when each of us does our part and contributes our share can we realize the U.N.вЂ™s highest aspirations. We must pursue peace without fear, hope without despair, and security without apology.\\n \\n Looking around this hall where so much history has transpired, we think of the many before us who have come here to address the challenges of their nations and of their times. And our thoughts turn to the same question that ran through all their speeches and resolutions, through every word and every hope. It is the question of what kind of world will we leave for our children and what kind of nations they will inherit.\\n \\n The dreams that fill this hall today are as diverse as the people who have stood at this podium, and as varied as the countries represented right here in this body are. It really is something. It really is great, great history.\\n There is India, a free society over a billion people, successfully lifting countless millions out of poverty and into the middle class.\\n \\n There is Saudi Arabia, where King Salman and the Crown Prince are pursuing bold new reforms.\\n \\n There is Israel, proudly celebrating its 70th anniversary as a thriving democracy in the Holy Land.\\n \\n In Poland, a great people are standing up for their independence, their security, and their sovereignty.\\n \\n Many countries are pursuing their own unique visions, building their own hopeful futures, and chasing their own wonderful dreams of destiny, of legacy, and of a home.\\n \\n The whole world is richer, humanity is better, because of this beautiful constellation of nations, each very special, each very unique, and each shining brightly in its part of the world.\\n \\n In each one, we see awesome promise of a people bound together by a shared past and working toward a common future.\\n \\n As for Americans, we know what kind of future we want for ourselves. We know what kind of a nation America must always be.\\n \\n In America, we believe in the majesty of freedom and the dignity of the individual. We believe in self-government and the rule of law. And we prize the culture that sustains our liberty -вЂ“ a culture built on strong families, deep faith, and fierce independence. We celebrate our heroes, we treasure our traditions, and above all, we love our country.\\n \\n Inside everyone in this great chamber today, and everyone listening all around the globe, there is the heart of a patriot that feels the same powerful love for your nation, the same intense loyalty to your homeland.\\n \\n The passion that burns in the hearts of patriots and the souls of nations has inspired reform and revolution, sacrifice and selflessness, scientific breakthroughs, and magnificent works of art.\\n \\n Our task is not to erase it, but to embrace it. To build with it. To draw on its ancient wisdom. And to find within it the will to make our nations greater, our regions safer, and the world better.\\n \\n To unleash this incredible potential in our people, we must defend the foundations that make it all possible. Sovereign and independent nations are the only vehicle where freedom has ever survived, democracy has ever endured, or peace has ever prospered. And so we must protect our sovereignty and our cherished independence above all.\\n \\n When we do, we will find new avenues for cooperation unfolding before us. We will find new passion for peacemaking rising within us. We will find new purpose, new resolve, and new spirit flourishing all around us, and making this a more beautiful world in which to live.\\n \\n So together, let us choose a future of patriotism, prosperity, and pride. Let us choose peace and freedom over domination and defeat. And let us come here to this place to stand for our people and their nations, forever strong, forever sovereign, forever just, and forever thankful for the grace and the goodness and the glory of God.\\n \\n Thank you. God bless you. And God bless the nations of the world.\\n \\n Thank you very much. Thank you.\""
      ]
     },
     "execution_count": 13,
     "metadata": {},
     "output_type": "execute_result"
    }
   ],
   "source": [
    "text_sample"
   ]
  },
  {
   "cell_type": "code",
   "execution_count": 4,
   "metadata": {},
   "outputs": [],
   "source": [
    "SEQ_LEN = 256\n",
    "BATCH_SIZE = 16\n",
    "\n",
    "def get_batch(sequence):\n",
    "    trains = []\n",
    "    targets = []\n",
    "    for _ in range(BATCH_SIZE):\n",
    "        batch_start = np.random.randint(0, len(sequence) - SEQ_LEN)\n",
    "        chunk = sequence[batch_start: batch_start + SEQ_LEN]\n",
    "        train = torch.LongTensor(chunk[:-1]).view(-1, 1)\n",
    "        target = torch.LongTensor(chunk[1:]).view(-1, 1)\n",
    "        trains.append(train)\n",
    "        targets.append(target)\n",
    "    return torch.stack(trains, dim=0), torch.stack(targets, dim=0)"
   ]
  },
  {
   "cell_type": "code",
   "execution_count": 5,
   "metadata": {},
   "outputs": [],
   "source": [
    "def evaluate(model, char_to_idx, idx_to_char, start_text=' ', prediction_len=200, temp=0.3):\n",
    "    hidden = model.init_hidden()\n",
    "    idx_input = [char_to_idx[char] for char in start_text]\n",
    "    train = torch.LongTensor(idx_input).view(-1, 1, 1).to(device)\n",
    "    predicted_text = start_text\n",
    "    \n",
    "    _, hidden = model(train, hidden)\n",
    "        \n",
    "    inp = train[-1].view(-1, 1, 1)\n",
    "    \n",
    "    for i in range(prediction_len):\n",
    "        output, hidden = model(inp.to(device), hidden)\n",
    "        output_logits = output.cpu().data.view(-1)\n",
    "        p_next = F.softmax(output_logits / temp, dim=-1).detach().cpu().data.numpy()        \n",
    "        top_index = np.random.choice(len(char_to_idx), p=p_next)\n",
    "        inp = torch.LongTensor([top_index]).view(-1, 1, 1).to(device)\n",
    "        predicted_char = idx_to_char[top_index]\n",
    "        predicted_text += predicted_char\n",
    "    \n",
    "    return predicted_text"
   ]
  },
  {
   "cell_type": "code",
   "execution_count": 6,
   "metadata": {},
   "outputs": [],
   "source": [
    "class TextRNN(nn.Module):\n",
    "    \n",
    "    def __init__(self, input_size, hidden_size, embedding_size, n_layers=1):\n",
    "        super(TextRNN, self).__init__()\n",
    "        \n",
    "        self.input_size = input_size\n",
    "        self.hidden_size = hidden_size\n",
    "        self.embedding_size = embedding_size\n",
    "        self.n_layers = n_layers\n",
    "\n",
    "        self.encoder = nn.Embedding(self.input_size, self.embedding_size)\n",
    "        self.lstm = nn.LSTM(self.embedding_size, self.hidden_size, self.n_layers)\n",
    "        self.dropout = nn.Dropout(0.2)\n",
    "        self.fc = nn.Linear(self.hidden_size, self.input_size)\n",
    "        \n",
    "    def forward(self, x, hidden):\n",
    "        x = self.encoder(x).squeeze(2)\n",
    "        out, (ht1, ct1) = self.lstm(x, hidden)\n",
    "        out = self.dropout(out)\n",
    "        x = self.fc(out)\n",
    "        return x, (ht1, ct1)\n",
    "    \n",
    "    def init_hidden(self, batch_size=1):\n",
    "        return (torch.zeros(self.n_layers, batch_size, self.hidden_size, requires_grad=True).to(device),\n",
    "               torch.zeros(self.n_layers, batch_size, self.hidden_size, requires_grad=True).to(device))"
   ]
  },
  {
   "cell_type": "code",
   "execution_count": 8,
   "metadata": {},
   "outputs": [
    {
     "name": "stdout",
     "output_type": "stream",
     "text": [
      "Loss: 2.625749764442444\n",
      " and the reand the are the and and the and the deand the the the the the the the petions and the nated the the the the protion the the are the the the of the the the ang the and the the the wing ind an\n"
     ]
    }
   ],
   "source": [
    "device = torch.device('cuda') if torch.cuda.is_available() else torch.device('cpu')\n",
    "model = TextRNN(input_size=len(idx_to_char), hidden_size=128, embedding_size=128, n_layers=2)\n",
    "model.to(device)\n",
    "\n",
    "criterion = nn.CrossEntropyLoss()\n",
    "optimizer = torch.optim.Adam(model.parameters(), lr=1e-2, amsgrad=True)\n",
    "scheduler = torch.optim.lr_scheduler.ReduceLROnPlateau(\n",
    "    optimizer, \n",
    "    patience=5, \n",
    "    verbose=True, \n",
    "    factor=0.5\n",
    ")\n",
    "\n",
    "n_epochs = 50\n",
    "loss_avg = []\n",
    "\n",
    "for epoch in range(n_epochs):\n",
    "    model.train()\n",
    "    train, target = get_batch(sequence)\n",
    "    train = train.permute(1, 0, 2).to(device)\n",
    "    target = target.permute(1, 0, 2).to(device)\n",
    "    hidden = model.init_hidden(BATCH_SIZE)\n",
    "\n",
    "    output, hidden = model(train, hidden)\n",
    "    loss = criterion(output.permute(1, 2, 0), target.squeeze(-1).permute(1, 0))\n",
    "    \n",
    "    loss.backward()\n",
    "    optimizer.step()\n",
    "    optimizer.zero_grad()\n",
    "    \n",
    "    loss_avg.append(loss.item())\n",
    "    if len(loss_avg) >= 50:\n",
    "        mean_loss = np.mean(loss_avg)\n",
    "        print(f'Loss: {mean_loss}')\n",
    "        scheduler.step(mean_loss)\n",
    "        loss_avg = []\n",
    "        model.eval()\n",
    "        predicted_text = evaluate(model, char_to_idx, idx_to_char)\n",
    "        print(predicted_text)"
   ]
  },
  {
   "cell_type": "code",
   "execution_count": 9,
   "metadata": {},
   "outputs": [
    {
     "name": "stdout",
     "output_type": "stream",
     "text": [
      ". hat countions the and peat the the pration in the the the perest the the the the the and the the the and cort the the the sour the and and the the the the that the the and the the the the aring the the the the and and the the the the and ant the the a for alle the the the the the peations the at the the the we the are and thing and the the the the in the and the the the the in the the the the cort the to and the the for the the the recent the to sorsiond the the the this the the the the the worl the the the and our the the are the sat the to and thes the are the the the the whind the the the the the the and the for the are and the are the the the han the preat the and and the the and the sort and the the the the the the the and the the for the the an the the the the the and the wort the ang the a sorle the the the and the and the the and the the and the the the are the the cour the the the the and are the the and the the the the the the the the the nations the the and and the the the t\n"
     ]
    }
   ],
   "source": [
    "model.eval()\n",
    "\n",
    "print(evaluate(\n",
    "    model, \n",
    "    char_to_idx, \n",
    "    idx_to_char, \n",
    "    temp=0.3, \n",
    "    prediction_len=1000, \n",
    "    start_text='. '\n",
    "    )\n",
    ")"
   ]
  },
  {
   "cell_type": "code",
   "execution_count": null,
   "metadata": {},
   "outputs": [],
   "source": []
  }
 ],
 "metadata": {
  "kernelspec": {
   "display_name": "Python 3",
   "language": "python",
   "name": "python3"
  },
  "language_info": {
   "codemirror_mode": {
    "name": "ipython",
    "version": 3
   },
   "file_extension": ".py",
   "mimetype": "text/x-python",
   "name": "python",
   "nbconvert_exporter": "python",
   "pygments_lexer": "ipython3",
   "version": "3.7.9"
  }
 },
 "nbformat": 4,
 "nbformat_minor": 4
}
