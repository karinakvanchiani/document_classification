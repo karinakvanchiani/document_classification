{
 "cells": [
  {
   "cell_type": "markdown",
   "metadata": {},
   "source": [
    "## Задание 1"
   ]
  },
  {
   "cell_type": "markdown",
   "metadata": {},
   "source": [
    "Свертка списка - это обобщенная операция над списком, c помощью которой можно преобразовать список в единое значение. Например, рассмотрим реализации свертки слева и свертки справа (левоассоциативную свертку и правоассоциативную свертку):"
   ]
  },
  {
   "cell_type": "code",
   "execution_count": 1,
   "metadata": {},
   "outputs": [],
   "source": [
    "def foldl(f, x0, lst):\n",
    "    if not lst:\n",
    "        return x0\n",
    "    return foldl(f, f(x0, lst[0]), lst[1:])\n",
    "\n",
    "\n",
    "def foldr(f, x0, lst):\n",
    "    if not lst:\n",
    "        return x0\n",
    "    return f(lst[0], foldr(f, x0, lst[1:]))"
   ]
  },
  {
   "cell_type": "code",
   "execution_count": 2,
   "metadata": {},
   "outputs": [
    {
     "data": {
      "text/plain": [
       "6"
      ]
     },
     "execution_count": 2,
     "metadata": {},
     "output_type": "execute_result"
    }
   ],
   "source": [
    "#сумма\n",
    "foldl(lambda x, y: x + y, 0, [1, 2, 3])"
   ]
  },
  {
   "cell_type": "code",
   "execution_count": 3,
   "metadata": {},
   "outputs": [
    {
     "data": {
      "text/plain": [
       "'123'"
      ]
     },
     "execution_count": 3,
     "metadata": {},
     "output_type": "execute_result"
    }
   ],
   "source": [
    "#конкатенация\n",
    "foldl(lambda x, y: '{}{}'.format(x, y), '', [1, 2, 3])"
   ]
  },
  {
   "cell_type": "code",
   "execution_count": 4,
   "metadata": {},
   "outputs": [
    {
     "data": {
      "text/plain": [
       "(0.16666666666666666, 1.5)"
      ]
     },
     "execution_count": 4,
     "metadata": {},
     "output_type": "execute_result"
    }
   ],
   "source": [
    "f = lambda x, y: x / y\n",
    "foldl(f, 1, [1, 2, 3]), \\\n",
    "foldr(f, 1, [1, 2, 3])"
   ]
  },
  {
   "cell_type": "markdown",
   "metadata": {},
   "source": [
    "Задача: реализовать foldl через foldr и наоборот. Вместо многоточий нужно вставить выражения, которые бы привели к нужному результату. Модифицировать сам список нельзя."
   ]
  },
  {
   "cell_type": "code",
   "execution_count": 8,
   "metadata": {},
   "outputs": [],
   "source": [
    "def foldl2(f, x0, lst):\n",
    "    return foldr(lambda x, y: lambda n: y(f(n, x)), lambda m: m, lst)(x0)\n",
    "\n",
    "\n",
    "def foldr2(f, x0, lst):\n",
    "    return foldl(lambda y, x: lambda n: y(f(x, n)), lambda m: m, lst)(x0)"
   ]
  },
  {
   "cell_type": "code",
   "execution_count": 10,
   "metadata": {},
   "outputs": [
    {
     "data": {
      "text/plain": [
       "45"
      ]
     },
     "execution_count": 10,
     "metadata": {},
     "output_type": "execute_result"
    }
   ],
   "source": [
    "foldl2(lambda x, y: x + y, 32, [10, -4, 7])"
   ]
  },
  {
   "cell_type": "code",
   "execution_count": 11,
   "metadata": {},
   "outputs": [
    {
     "data": {
      "text/plain": [
       "'be the light for people'"
      ]
     },
     "execution_count": 11,
     "metadata": {},
     "output_type": "execute_result"
    }
   ],
   "source": [
    "foldl2(lambda x, y: '{}{}'.format(x, y), 'be the', [' light', ' for', ' people'])"
   ]
  },
  {
   "cell_type": "code",
   "execution_count": 12,
   "metadata": {},
   "outputs": [
    {
     "data": {
      "text/plain": [
       "(1.2, 0.8333333333333334)"
      ]
     },
     "execution_count": 12,
     "metadata": {},
     "output_type": "execute_result"
    }
   ],
   "source": [
    "f = lambda x, y: x / y\n",
    "foldl2(f, 12, [5, 1, 2]), \\\n",
    "foldr2(f, 12, [5, 1, 2])"
   ]
  },
  {
   "cell_type": "markdown",
   "metadata": {},
   "source": [
    "## Задание 2"
   ]
  },
  {
   "cell_type": "markdown",
   "metadata": {},
   "source": [
    "нужно написать функцию, которая принимает две строки и проверяет, входит ли хотя бы одна перестановка второй строки в первую. Например:\n",
    "\n",
    "a = 'abcrotm'\n",
    "\n",
    "b = 'tro'\n",
    "\n",
    "функция def check_inv(a, b) вернет True, так как 'rot' содержится в 'abcrotm'. Нужно подумать как можно более оптимальный алгоритм и оценить его сложность."
   ]
  },
  {
   "cell_type": "code",
   "execution_count": 48,
   "metadata": {},
   "outputs": [],
   "source": [
    "def check_inv(a, b):\n",
    "    \n",
    "    flag = False\n",
    "    \n",
    "    index = {}\n",
    "    b_chars = [char for char in b]\n",
    "\n",
    "    for i in range(len(a)):\n",
    "        if a[i] in b:\n",
    "            index[i] = a[i]\n",
    "\n",
    "            \n",
    "    may_be = []\n",
    "    for key, value in index.items():\n",
    "        A = list(range(key, key + len(b)))\n",
    "        B = list(index.keys())\n",
    "        if set(A).issubset(B):\n",
    "            for k in A:\n",
    "                may_be.append(index[k])\n",
    "        break\n",
    "        \n",
    "\n",
    "    if sorted(may_be) == sorted(b_chars):\n",
    "        flag = True\n",
    "            \n",
    "    return flag"
   ]
  },
  {
   "cell_type": "code",
   "execution_count": 51,
   "metadata": {},
   "outputs": [
    {
     "data": {
      "text/plain": [
       "True"
      ]
     },
     "execution_count": 51,
     "metadata": {},
     "output_type": "execute_result"
    }
   ],
   "source": [
    "a = 'mrmkmkrmkksswpwdcdmckmek'\n",
    "b = 'mkkcme'\n",
    "check_inv(a, b)"
   ]
  },
  {
   "cell_type": "code",
   "execution_count": 49,
   "metadata": {},
   "outputs": [
    {
     "data": {
      "text/plain": [
       "False"
      ]
     },
     "execution_count": 49,
     "metadata": {},
     "output_type": "execute_result"
    }
   ],
   "source": [
    "a = 'kkdkdkkkkkkdkkkkkeeeee'\n",
    "b = 'ekkd'\n",
    "check_inv(a, b)"
   ]
  },
  {
   "cell_type": "code",
   "execution_count": 50,
   "metadata": {},
   "outputs": [
    {
     "data": {
      "text/plain": [
       "False"
      ]
     },
     "execution_count": 50,
     "metadata": {},
     "output_type": "execute_result"
    }
   ],
   "source": [
    "check_inv('abb', 'aab')"
   ]
  },
  {
   "cell_type": "markdown",
   "metadata": {},
   "source": [
    "## Задание 3"
   ]
  },
  {
   "cell_type": "markdown",
   "metadata": {},
   "source": [
    "Реализовать бинарное дерево (класс Tree), в нём методы repr, str, iter (итерация только по листьям)."
   ]
  },
  {
   "cell_type": "code",
   "execution_count": 12,
   "metadata": {},
   "outputs": [
    {
     "data": {
      "text/plain": [
       "True"
      ]
     },
     "execution_count": 12,
     "metadata": {},
     "output_type": "execute_result"
    }
   ],
   "source": [
    "class Tree:\n",
    "    \n",
    "    def __init__(self, value=None, left=None, right=None):\n",
    "        self.left = left\n",
    "        self.right = right\n",
    "        self.value = value\n",
    "        \n",
    "        \n",
    "    def __iter__(self):\n",
    "        if self.left == None and self.right == None:\n",
    "            yield self.value\n",
    "        \n",
    "        if self.left:\n",
    "            yield from self.left\n",
    "        \n",
    "        if self.right:\n",
    "            yield from self.right\n",
    "    \n",
    "    \n",
    "    def __str__(self):\n",
    "        res = [str(self.value)]\n",
    "        \n",
    "        if self.left:\n",
    "            res.append(self.left.__str__())\n",
    "        \n",
    "        if self.right:\n",
    "            res.append(self.right.__str__())\n",
    "            \n",
    "        return ' '.join(res)\n",
    "    \n",
    "    \n",
    "    def __repr__(self):\n",
    "        if self.left == None and self.right == None:\n",
    "            return f\"Tree({self.value})\"\n",
    "        \n",
    "        if self.right == None :\n",
    "            return f\"Tree({self.value}, {self.left.__repr__()})\"\n",
    "        \n",
    "        if self.left == None:\n",
    "            return f\"Tree({self.value}, None, {self.right.__repr__()})\"\n",
    "        \n",
    "        return f\"Tree({self.value}, {self.left.__repr__()}, {self.right.__repr__()})\"\n",
    "    \n",
    "    \n",
    "\n",
    "tree = Tree(0, Tree(1, Tree(3), Tree(4)),                             \n",
    "               Tree(2))\n",
    "\n",
    "list(tree) == [3, 4, 2]"
   ]
  },
  {
   "cell_type": "code",
   "execution_count": 13,
   "metadata": {},
   "outputs": [
    {
     "name": "stdout",
     "output_type": "stream",
     "text": [
      "0 1 3 4 2\n"
     ]
    }
   ],
   "source": [
    "print(tree)"
   ]
  },
  {
   "cell_type": "code",
   "execution_count": 14,
   "metadata": {},
   "outputs": [
    {
     "data": {
      "text/plain": [
       "Tree(0, Tree(1, Tree(3), Tree(4)), Tree(2))"
      ]
     },
     "execution_count": 14,
     "metadata": {},
     "output_type": "execute_result"
    }
   ],
   "source": [
    "tree"
   ]
  },
  {
   "cell_type": "markdown",
   "metadata": {},
   "source": [
    "## Задание 4"
   ]
  },
  {
   "cell_type": "markdown",
   "metadata": {},
   "source": [
    "Реализовать простейший калькулятор математических выражений:\n",
    "\n",
    "1) только целые числа \\\n",
    "2) +, -, *, \\ \\\n",
    "3) скобки\n",
    "\n",
    "Можно использовать регулярные выражения"
   ]
  },
  {
   "cell_type": "code",
   "execution_count": 39,
   "metadata": {},
   "outputs": [],
   "source": [
    "operations = {'+': (0, lambda x, y: x + y),\n",
    "              '-': (0, lambda x, y: x - y),\n",
    "              '*': (1, lambda x, y: x * y),\n",
    "              '/': (1, lambda x, y: x / y)}"
   ]
  },
  {
   "cell_type": "code",
   "execution_count": 54,
   "metadata": {},
   "outputs": [],
   "source": [
    "def parse(string):\n",
    "    \n",
    "    number = ''\n",
    "    result = []\n",
    "    \n",
    "    for symb in string:\n",
    "        \n",
    "        if symb in '1234567890.,': \n",
    "            number += symb  \n",
    "            \n",
    "        elif number: \n",
    "            result.append(float(number)) \n",
    "            number = ''\n",
    "            \n",
    "        if symb in '*/+-()': \n",
    "            result.append(symb)\n",
    "            \n",
    "    if number:  \n",
    "        result.append(float(number))  \n",
    "        \n",
    "    return result"
   ]
  },
  {
   "cell_type": "code",
   "execution_count": 55,
   "metadata": {},
   "outputs": [],
   "source": [
    "def writeback(parsed_string):\n",
    "    \n",
    "    stack = [] \n",
    "    result = []\n",
    "    \n",
    "    for token in parsed_string:\n",
    "        \n",
    "        if token in operations: \n",
    "            while stack and stack[-1] != \"(\" and operations[token][0] <= operations[stack[-1]][0]:\n",
    "                result.append(stack.pop())\n",
    "            stack.append(token)\n",
    "            \n",
    "        elif token == \")\":\n",
    "            while stack:\n",
    "                x = stack.pop()\n",
    "                if x == \"(\":\n",
    "                    break\n",
    "                \n",
    "                result.append(x)\n",
    "                \n",
    "        elif token == \"(\":\n",
    "            stack.append(token)\n",
    "            \n",
    "        else:\n",
    "            result.append(token)\n",
    "            \n",
    "    while stack:\n",
    "        result.append(stack.pop())\n",
    "        \n",
    "    return result"
   ]
  },
  {
   "cell_type": "code",
   "execution_count": 59,
   "metadata": {},
   "outputs": [],
   "source": [
    "def calc(string):\n",
    "    \n",
    "    string = writeback(parse(string))\n",
    "    stack = []\n",
    "    \n",
    "    for token in string:\n",
    "        \n",
    "        if token not in operations:\n",
    "            stack.append(token)\n",
    "            \n",
    "        if token in operations:\n",
    "            first, second = stack.pop(), stack.pop()\n",
    "            stack.append(operations[token][1](second, first))\n",
    "            \n",
    "    return stack.pop()"
   ]
  },
  {
   "cell_type": "code",
   "execution_count": 60,
   "metadata": {},
   "outputs": [
    {
     "data": {
      "text/plain": [
       "True"
      ]
     },
     "execution_count": 60,
     "metadata": {},
     "output_type": "execute_result"
    }
   ],
   "source": [
    "string = '23 * 54 / 12 * (1 / 3.7)'\n",
    "eval(string) == calc(string)"
   ]
  },
  {
   "cell_type": "code",
   "execution_count": 61,
   "metadata": {},
   "outputs": [
    {
     "data": {
      "text/plain": [
       "True"
      ]
     },
     "execution_count": 61,
     "metadata": {},
     "output_type": "execute_result"
    }
   ],
   "source": [
    "string = '((24 - 53 / 46 * (567 +3.678 / (173 * (7 - 845674)))))'\n",
    "eval(string) == calc(string)"
   ]
  }
 ],
 "metadata": {
  "kernelspec": {
   "display_name": "Python 3",
   "language": "python",
   "name": "python3"
  },
  "language_info": {
   "codemirror_mode": {
    "name": "ipython",
    "version": 3
   },
   "file_extension": ".py",
   "mimetype": "text/x-python",
   "name": "python",
   "nbconvert_exporter": "python",
   "pygments_lexer": "ipython3",
   "version": "3.7.6"
  }
 },
 "nbformat": 4,
 "nbformat_minor": 4
}
